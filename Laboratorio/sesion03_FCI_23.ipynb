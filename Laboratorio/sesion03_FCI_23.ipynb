{
 "cells": [
  {
   "cell_type": "markdown",
   "id": "33356f88",
   "metadata": {},
   "source": [
    "$$\\sum_{}\\frac{1}{10}*\\left(1+\\frac{i}{5}+\\frac{i^2}{100}\\right)$$"
   ]
  },
  {
   "cell_type": "markdown",
   "id": "559f18bc",
   "metadata": {},
   "source": [
    "En qué intervalo vamos a integrar $[a,b]=[1,2]$ a la función $f(x)=x^2$"
   ]
  },
  {
   "cell_type": "markdown",
   "id": "e240c3d0",
   "metadata": {},
   "source": [
    "$L(f,P_{10})=\\sum_{i=1}^{10}m_i\\Delta x$, donde $m_i=\\min\\{f(x)\\,:\\,x\\in[x_{i-1},x_i]\\}=f(x_{i-1})=x_{i-1}^2$\n",
    "\n",
    "Por otra parte $\\Delta x=\\frac{b-a}{n}=0.1=\\frac{1}{10}$\n",
    "\n",
    "Por lo tanto $$L(f,P_{10})=\\sum_{i=1}^{10}m_i\\Delta x=\\sum_{i=1}^{10}x_{i-1}^2\\frac{1}{10}$$\n",
    "\n",
    "Pero $x_i=a+i\\cdot\\Delta x=1+\\frac{i}{10}$\n",
    "\n",
    "De esta manera $$L(f,P_{10})=\\sum_{i=1}^{10}m_i\\Delta x=\\sum_{i=1}^{10}x_{i-1}^2\\frac{1}{10}=\\sum_{i=1}^{10}\\left(1+\\frac{i-1}{10}\\right)^2\\frac{1}{10}$$\n",
    "\n",
    "Esto es:\n",
    "\\begin{eqnarray*}\n",
    "L(f,P_{10})&=&\\sum_{i=1}^{10}\\left(1+\\frac{i-1}{10}\\right)^2\\frac{1}{10}\\\\\n",
    "&=&\\sum_{i=1-1}^{10-1}\\left(1+\\frac{(i+1)-1}{10}\\right)^2\\frac{1}{10}\\\\\n",
    "&=&\\sum_{i=0}^{9}\\left(1+\\frac{i}{10}\\right)^2\\frac{1}{10}\\\\\n",
    "&=&\\sum_{i=0}^{9}\\left(1+\\frac{i}{5}+\\frac{i^2}{100}\\right)\\frac{1}{10}\\\\\n",
    "&=&\\frac{1}{10}\\sum_{i=0}^{9}\\left(1+\\frac{i}{5}+\\frac{i^2}{100}\\right)\\\\\n",
    "&=&\\frac{1}{10}\\left(\\sum_{i=0}^{9}1+\\sum_{i=0}^{9}\\frac{i}{5}+\\sum_{i=0}^{9}\\frac{i^2}{100}\\right)\\\\\n",
    "&=&\\frac{1}{10}\\left(\\sum_{i=0}^{9}1+\\frac{1}{5}\\sum_{i=0}^{9}i+\\frac{1}{100}\\sum_{i=0}^{9}i^2\\right)\\\\\n",
    "&=&\\frac{1}{10}\\left(10+\\frac{1}{5}\\cdot\\frac{9\\cdot10}{2}+\\frac{1}{100}\\frac{9\\cdot10\\cdot19}{6}\\right)\n",
    "\\end{eqnarray*}\n",
    "\n"
   ]
  },
  {
   "cell_type": "markdown",
   "id": "2393fcd4",
   "metadata": {},
   "source": [
    "Esto es $$L(f,P_{10})=\\frac{1}{10}\\left(10+9+2.85\\right)=\\frac{21.85}{10}=2.185$$"
   ]
  }
 ],
 "metadata": {
  "kernelspec": {
   "display_name": "Python 3 (ipykernel)",
   "language": "python",
   "name": "python3"
  },
  "language_info": {
   "codemirror_mode": {
    "name": "ipython",
    "version": 3
   },
   "file_extension": ".py",
   "mimetype": "text/x-python",
   "name": "python",
   "nbconvert_exporter": "python",
   "pygments_lexer": "ipython3",
   "version": "3.11.4"
  }
 },
 "nbformat": 4,
 "nbformat_minor": 5
}
